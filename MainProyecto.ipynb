{
 "cells": [
  {
   "cell_type": "markdown",
   "metadata": {},
   "source": [
    "### Importando las librerias necesarias"
   ]
  },
  {
   "cell_type": "code",
   "execution_count": 1,
   "metadata": {},
   "outputs": [],
   "source": [
    "import pandas as pd\n",
    "import numpy as np\n",
    "import matplotlib.pyplot as plt\n",
    "from mpl_toolkits import mplot3d\n",
    "\n",
    "from sklearn.preprocessing import MinMaxScaler\n",
    "from sklearn.metrics import r2_score\n",
    "from sklearn.model_selection import train_test_split"
   ]
  },
  {
   "cell_type": "code",
   "execution_count": 2,
   "metadata": {},
   "outputs": [],
   "source": [
    "xScaler = MinMaxScaler()"
   ]
  },
  {
   "cell_type": "code",
   "execution_count": 3,
   "metadata": {},
   "outputs": [],
   "source": [
    "def aMatrix(X, p):\n",
    "    Xfinal = np.ones((X.shape[0],1))\n",
    "    for i in range(1,p+1):\n",
    "        Xfinal = np.append(Xfinal,X**i, axis=1)\n",
    "    return np.array(Xfinal)"
   ]
  },
  {
   "cell_type": "markdown",
   "metadata": {},
   "source": [
    "### Preparacion de datos"
   ]
  },
  {
   "cell_type": "code",
   "execution_count": 4,
   "metadata": {},
   "outputs": [],
   "source": [
    "data = pd.read_csv(\"data/forestfires.csv\")"
   ]
  },
  {
   "cell_type": "code",
   "execution_count": 5,
   "metadata": {},
   "outputs": [
    {
     "data": {
      "text/plain": [
       "<AxesSubplot:>"
      ]
     },
     "execution_count": 5,
     "metadata": {},
     "output_type": "execute_result"
    },
    {
     "data": {
      "image/png": "[encoded data removed]",
      "text/plain": [
       "<Figure size 432x288 with 1 Axes>"
      ]
     },
     "metadata": {
      "needs_background": "light"
     },
     "output_type": "display_data"
    }
   ],
   "source": [
    "data.boxplot(column=['area'])"
   ]
  },
  {
   "cell_type": "code",
   "execution_count": 6,
   "metadata": {},
   "outputs": [],
   "source": [
    "# se removeran valores muy atipicos para el entrenamiento\n",
    "data = data.loc[data[\"area\"] < 250]\n",
    "xprep = data.iloc[:,0:12]\n",
    "yprep = data.iloc[:,12]"
   ]
  },
  {
   "cell_type": "code",
   "execution_count": 7,
   "metadata": {},
   "outputs": [
    {
     "data": {
      "text/plain": [
       "<AxesSubplot:>"
      ]
     },
     "execution_count": 7,
     "metadata": {},
     "output_type": "execute_result"
    },
    {
     "data": {
      "image/png": "[encoded data removed]",
      "text/plain": [
       "<Figure size 432x288 with 1 Axes>"
      ]
     },
     "metadata": {
      "needs_background": "light"
     },
     "output_type": "display_data"
    }
   ],
   "source": [
    "data.boxplot(column=['area'])"
   ]
  },
  {
   "cell_type": "code",
   "execution_count": 8,
   "metadata": {},
   "outputs": [],
   "source": [
    "# Para otras pruebas se consideran solo las variables numericas.\n",
    "xprepNoCat = data.loc[:,['X', 'Y', 'FFMC', 'DMC', 'DC', 'ISI', 'temp', 'RH','wind', 'rain']]"
   ]
  },
  {
   "cell_type": "code",
   "execution_count": 9,
   "metadata": {},
   "outputs": [],
   "source": [
    "# Creamos las variables \"dummy\" para las variables categoricas\n",
    "def create_dummy(listCategorical, df, columnCat):\n",
    "    for category in listCategorical:\n",
    "        df[category] = np.where(df.loc[:,columnCat] == category, 1, 0)\n",
    "    return df"
   ]
  },
  {
   "cell_type": "code",
   "execution_count": 10,
   "metadata": {},
   "outputs": [],
   "source": [
    "listMonth = list(xprep.loc[:,\"month\"].unique())\n",
    "listDay = list(xprep.loc[:,\"day\"].unique())\n",
    "xprep = create_dummy(listMonth, xprep, \"month\")\n",
    "xprep = create_dummy(listDay, xprep, \"day\")"
   ]
  },
  {
   "cell_type": "code",
   "execution_count": 11,
   "metadata": {},
   "outputs": [],
   "source": [
    "xprep.drop('month', inplace=True, axis=1)\n",
    "xprep.drop('day', inplace=True, axis=1)"
   ]
  },
  {
   "cell_type": "code",
   "execution_count": 12,
   "metadata": {},
   "outputs": [],
   "source": [
    "# los datos X: incluye las categoricas / XNoCat: excluye a las categoricas\n",
    "X = xprep.to_numpy()\n",
    "XNoCat = xprepNoCat.to_numpy()\n",
    "y  = np.array([yprep]).T"
   ]
  },
  {
   "cell_type": "code",
   "execution_count": 13,
   "metadata": {},
   "outputs": [],
   "source": [
    "# los datos normalizados\n",
    "Xnorm = xScaler.fit_transform(X)\n",
    "XnormNoCat = xScaler.fit_transform(XNoCat)"
   ]
  },
  {
   "cell_type": "markdown",
   "metadata": {},
   "source": [
    "### Sepracion de datos para entrenamiento y test"
   ]
  },
  {
   "cell_type": "code",
   "execution_count": 14,
   "metadata": {},
   "outputs": [
    {
     "name": "stdout",
     "output_type": "stream",
     "text": [
      "(462, 10)\n"
     ]
    }
   ],
   "source": [
    "X_train, X_test, y_train, y_test = train_test_split(XnormNoCat, y, test_size=0.1, random_state=42)\n",
    "print(X_train.shape)"
   ]
  },
  {
   "cell_type": "markdown",
   "metadata": {},
   "source": [
    "#### Funciones para calcular"
   ]
  },
  {
   "cell_type": "code",
   "execution_count": 15,
   "metadata": {},
   "outputs": [],
   "source": [
    "def h(X, W):\n",
    "    return X.dot(W)"
   ]
  },
  {
   "cell_type": "code",
   "execution_count": 16,
   "metadata": {},
   "outputs": [],
   "source": [
    "def update(W,  dW, alpha):\n",
    "    W  = W - alpha*dW\n",
    "    return W"
   ]
  },
  {
   "cell_type": "code",
   "execution_count": 17,
   "metadata": {},
   "outputs": [],
   "source": [
    "def Error(X, W, Y, lambd = 0.1, rho=0.5 , errtype=\"MSE\", tipoReg=\"Lineal\"):\n",
    "    outError1 = 0\n",
    "    contribucion = 0\n",
    "    if errtype == \"MSE\":\n",
    "        outError = np.sum(((h(X,W)-Y)**2), axis=0)[0]/(2*Y.shape[0])\n",
    "    elif errtype == \"MAE\":\n",
    "        outError  = np.sum(abs(h(X,W) - Y))/Y.shape[0]\n",
    "    else:\n",
    "        print(\"Tipo de error no definido\")\n",
    "    \n",
    "    if tipoReg == \"Lineal\":\n",
    "        contribucion = 0\n",
    "    elif tipoReg == \"Lasso\":\n",
    "        contribucion = lamb * np.sum(W,axis=0)[0]\n",
    "    elif tipoReg == \"Ridge\":\n",
    "        contribucion = lamb * np.sum(W**2,axis=0)[0]\n",
    "    elif tipoReg == \"Elastinet\":\n",
    "        contribucion = rho*lambd*np.sum(np.abs(W),axis=0)[0] + 0.5*(1-rho)*lambd*np.sum(W**2,axis=0)[0]\n",
    "    else:\n",
    "        print(\"Tipo de regresion no definido\")\n",
    "        \n",
    "    return outError + contribucion"
   ]
  },
  {
   "cell_type": "code",
   "execution_count": 18,
   "metadata": {},
   "outputs": [],
   "source": [
    "def derivada(X, W, Y, lambd = 0.1, rho= 0.5, errtype=\"MSE\", tipoReg=\"Lineal\"):\n",
    "    outderivada = 0\n",
    "    contribucion = 0\n",
    "    \n",
    "    if errtype == \"MSE\":\n",
    "        outderivada = 1/Y.shape[0]*np.sum((h(X,W)-Y)*X,axis=0).reshape(-1,1)\n",
    "    elif errtype == \"MAE\":\n",
    "        temp = np.sign(h(X,W) - Y)\n",
    "        outderivada = 1/Y.shape[0]*np.sum((temp)*X,axis=0).reshape(-1,1)\n",
    "    else: \n",
    "        print(\"Tipo de error no definido\")\n",
    "    \n",
    "    if tipoReg == \"Lineal\":\n",
    "        contribucion = 0\n",
    "    elif tipoReg == \"Lasso\":\n",
    "        contribucion = (lambd * np.sign(W))\n",
    "    elif tipoReg == \"Ridge\":\n",
    "        contribucion = (2 * lambd * W)\n",
    "    elif tipoReg == \"Elastinet\":\n",
    "        contribucion = rho*(lambd*np.sign(W))  + (1*(1-rho)*lambd*W)\n",
    "    else:\n",
    "        print(\"Tipo de regresion no definida\")\n",
    "        \n",
    "    return outderivada + contribucion"
   ]
  },
  {
   "cell_type": "code",
   "execution_count": 19,
   "metadata": {},
   "outputs": [],
   "source": [
    "def trainall(X, Y, epoch, alfa, p = 1, lambd=0.1, rho =0.5, errtype=\"MSE\", tipoReg = \"Lineal\"):\n",
    "    if tipoReg == \"Lineal\":\n",
    "        Xin = np.insert(X, 0,1, axis = 1)\n",
    "        Win = np.random.rand(X.shape[1]+1).reshape((X.shape[1]+1,1))\n",
    "    else:\n",
    "        Xin = aMatrix(X,p)\n",
    "        Win = np.random.rand(X.shape[1]*p+1).reshape((X.shape[1]*p+1,1))\n",
    "    L = Error(Xin, Win, Y, lambd, rho, errtype, tipoReg)\n",
    "    loss = []\n",
    "    contador = 0;\n",
    "    while (epoch > contador):\n",
    "        dW = derivada(Xin, Win, Y, lambd, rho, errtype, tipoReg)\n",
    "        Win = update(Win, alfa, dW)\n",
    "        L = Error(Xin, Win, Y, lambd, rho, errtype, tipoReg)\n",
    "        loss.append(L)\n",
    "        epochs = len(loss)\n",
    "        contador = contador + 1\n",
    "    return Win, loss, epochs  "
   ]
  },
  {
   "cell_type": "code",
   "execution_count": 36,
   "metadata": {},
   "outputs": [
    {
     "name": "stdout",
     "output_type": "stream",
     "text": [
      "Se realizó en: 10000 epocas\n",
      "Con un error de: 325.9686726925462\n"
     ]
    },
    {
     "data": {
      "text/plain": [
       "[<matplotlib.lines.Line2D at 0x1e05d4d3070>]"
      ]
     },
     "execution_count": 36,
     "metadata": {},
     "output_type": "execute_result"
    },
    {
     "data": {
      "image/png": "[encoded data removed]",
      "text/plain": [
       "<Figure size 432x288 with 1 Axes>"
      ]
     },
     "metadata": {
      "needs_background": "light"
     },
     "output_type": "display_data"
    }
   ],
   "source": [
    "errtypein = \"MSE\"\n",
    "tipoReg = \"Elastinet\"\n",
    "epocas = 10000\n",
    "alpha = 0.01\n",
    "p = 4\n",
    "lamb1= 0.1    # 0.1\n",
    "rhoIn = 0.9        # 0.9\n",
    "W_R, loss_R, epochs_R = trainall(X_train, y_train, epocas,  alpha, p, lamb1, rhoIn, errtypein, tipoReg)\n",
    "print(f'Se realizó en: {epochs_R} epocas')\n",
    "print(f'Con un error de: {min(loss_R)}')\n",
    "plt.plot(loss_R)"
   ]
  },
  {
   "cell_type": "code",
   "execution_count": 40,
   "metadata": {},
   "outputs": [
    {
     "data": {
      "text/plain": [
       "336.85195666459043"
      ]
     },
     "execution_count": 40,
     "metadata": {},
     "output_type": "execute_result"
    }
   ],
   "source": [
    "min(loss_R)"
   ]
  },
  {
   "cell_type": "code",
   "execution_count": 43,
   "metadata": {},
   "outputs": [],
   "source": [
    "listaIter = [100, 500, 1000, 10000]\n",
    "listaAlphas = [0.9,0.7,0.3, 0.2, 0.1,0.01,0.001,0.000]\n",
    "\n",
    "listaparams = []\n",
    "\n",
    "tipoReg = \"Lineal\"\n",
    "\n",
    "tipoerror = \"MAE\"\n",
    "for cant in listaIter:\n",
    "    epocas = cant\n",
    "    for alp in listaAlphas:\n",
    "        alpha = alp\n",
    "        W_R, loss_R, epochs_R = trainall(X_train, y_train, epocas,  alpha, p, lamb1, rhoIn, tipoerror, tipoReg)\n",
    "        listaparams.append([cant, alp, min(loss_R)])"
   ]
  },
  {
   "cell_type": "code",
   "execution_count": 44,
   "metadata": {},
   "outputs": [
    {
     "data": {
      "text/plain": [
       "[[100, 0.9, 9.315161598755733],\n",
       " [100, 0.7, 9.27933476854517],\n",
       " [100, 0.3, 9.235244660292844],\n",
       " [100, 0.2, 9.222673145142306],\n",
       " [100, 0.1, 9.222346541382041],\n",
       " [100, 0.01, 10.906118387068247],\n",
       " [100, 0.001, 12.338367776881224],\n",
       " [100, 0.0, 12.9708178645667],\n",
       " [500, 0.9, 9.310858745034755],\n",
       " [500, 0.7, 9.279209992136895],\n",
       " [500, 0.3, 9.232190950013658],\n",
       " [500, 0.2, 9.220815362695932],\n",
       " [500, 0.1, 9.208322356155051],\n",
       " [500, 0.01, 9.473174179549181],\n",
       " [500, 0.001, 10.667988409029876],\n",
       " [500, 0.0, 12.440489453584192],\n",
       " [1000, 0.9, 9.290566979584913],\n",
       " [1000, 0.7, 9.275997339062975],\n",
       " [1000, 0.3, 9.230908208039049],\n",
       " [1000, 0.2, 9.218467205026734],\n",
       " [1000, 0.1, 9.209598251899106],\n",
       " [1000, 0.01, 9.200951749555147],\n",
       " [1000, 0.001, 10.767626086328987],\n",
       " [1000, 0.0, 13.196989332218848],\n",
       " [10000, 0.9, 9.295634501812787],\n",
       " [10000, 0.7, 9.26876222444737],\n",
       " [10000, 0.3, 9.227935180960246],\n",
       " [10000, 0.2, 9.218131332468117],\n",
       " [10000, 0.1, 9.208571555085854],\n",
       " [10000, 0.01, 9.199786162209875],\n",
       " [10000, 0.001, 9.211359137377324],\n",
       " [10000, 0.0, 13.06796238960509]]"
      ]
     },
     "execution_count": 44,
     "metadata": {},
     "output_type": "execute_result"
    }
   ],
   "source": [
    "listaparams"
   ]
  },
  {
   "cell_type": "code",
   "execution_count": null,
   "metadata": {},
   "outputs": [],
   "source": []
  },
  {
   "cell_type": "code",
   "execution_count": 54,
   "metadata": {},
   "outputs": [],
   "source": [
    "def prediccion_error(xtest, ytest, wfinal, tipoReg, p, tipoErr)\n",
    "    if tipo == \"Lineal\":\n",
    "        Xinpred = np.insert(xtest,0,1, axis = 1)\n",
    "    else:\n",
    "        Xinpred = aMatrix(X_test,p)\n",
    "\n",
    "    predict = Xinpred.dot(wfinal)\n",
    "    \n",
    "    if tipoErr == \"MSE\":\n",
    "        error = np.sum(((h(X,W)-Y)**2), axis=0)[0]/(2*Y.shape[0])\n",
    "      \n",
    "    return "
   ]
  },
  {
   "cell_type": "code",
   "execution_count": 22,
   "metadata": {},
   "outputs": [
    {
     "data": {
      "text/plain": [
       "(41, 1)"
      ]
     },
     "execution_count": 22,
     "metadata": {},
     "output_type": "execute_result"
    }
   ],
   "source": [
    "W_R.shape"
   ]
  },
  {
   "cell_type": "code",
   "execution_count": 23,
   "metadata": {},
   "outputs": [],
   "source": [
    "pred1 = aMatrix(X_test, 4).dot(W_R)"
   ]
  },
  {
   "cell_type": "code",
   "execution_count": 24,
   "metadata": {},
   "outputs": [
    {
     "data": {
      "text/plain": [
       "array([[ 8.45086848],\n",
       "       [12.63562422],\n",
       "       [ 4.54021408],\n",
       "       [ 8.70260462],\n",
       "       [ 8.83529485],\n",
       "       [ 4.94577136],\n",
       "       [ 4.83643082],\n",
       "       [12.27706593],\n",
       "       [ 9.97448461],\n",
       "       [14.12245729],\n",
       "       [ 8.61278263],\n",
       "       [10.634866  ],\n",
       "       [ 7.63550243],\n",
       "       [ 9.03863962],\n",
       "       [10.03311437],\n",
       "       [ 9.99938977],\n",
       "       [ 7.15781096],\n",
       "       [10.25860981],\n",
       "       [12.70843591],\n",
       "       [ 9.44717018],\n",
       "       [ 5.12120245],\n",
       "       [12.67993878],\n",
       "       [ 6.00882617],\n",
       "       [ 9.93792768],\n",
       "       [ 8.34476631],\n",
       "       [13.50970965],\n",
       "       [10.78984415],\n",
       "       [15.00807007],\n",
       "       [12.59321264],\n",
       "       [ 8.08600655],\n",
       "       [10.52727235],\n",
       "       [ 9.34987321],\n",
       "       [ 9.44953107],\n",
       "       [10.76634504],\n",
       "       [ 5.82997673],\n",
       "       [13.61006095],\n",
       "       [ 8.54481077],\n",
       "       [ 9.96682255],\n",
       "       [ 9.08884472],\n",
       "       [ 8.50363804],\n",
       "       [13.53186285],\n",
       "       [ 9.25676959],\n",
       "       [10.19502063],\n",
       "       [10.45257603],\n",
       "       [11.47998798],\n",
       "       [ 3.52551141],\n",
       "       [ 4.05963382],\n",
       "       [ 5.63528118],\n",
       "       [10.68957743],\n",
       "       [ 8.22305515],\n",
       "       [ 8.25280842],\n",
       "       [ 4.54351823]])"
      ]
     },
     "execution_count": 24,
     "metadata": {},
     "output_type": "execute_result"
    }
   ],
   "source": [
    "pred1"
   ]
  },
  {
   "cell_type": "code",
   "execution_count": 25,
   "metadata": {},
   "outputs": [
    {
     "data": {
      "text/plain": [
       "array([[ 0.  ],\n",
       "       [ 0.  ],\n",
       "       [ 3.35],\n",
       "       [ 1.46],\n",
       "       [ 0.  ],\n",
       "       [ 0.  ],\n",
       "       [13.99],\n",
       "       [ 0.  ],\n",
       "       [ 0.  ],\n",
       "       [ 0.  ],\n",
       "       [ 2.93],\n",
       "       [ 1.72],\n",
       "       [ 0.  ],\n",
       "       [ 0.  ],\n",
       "       [ 0.  ],\n",
       "       [ 0.  ],\n",
       "       [ 0.  ],\n",
       "       [ 0.  ],\n",
       "       [ 6.96],\n",
       "       [10.02],\n",
       "       [36.85],\n",
       "       [23.41],\n",
       "       [ 0.  ],\n",
       "       [19.23],\n",
       "       [ 0.  ],\n",
       "       [ 0.24],\n",
       "       [ 0.  ],\n",
       "       [ 5.86],\n",
       "       [ 2.18],\n",
       "       [ 4.42],\n",
       "       [ 0.76],\n",
       "       [11.22],\n",
       "       [ 0.47],\n",
       "       [ 0.  ],\n",
       "       [ 0.  ],\n",
       "       [ 8.16],\n",
       "       [ 0.  ],\n",
       "       [48.55],\n",
       "       [ 0.  ],\n",
       "       [ 4.69],\n",
       "       [ 0.  ],\n",
       "       [ 0.  ],\n",
       "       [ 1.56],\n",
       "       [ 0.  ],\n",
       "       [ 0.  ],\n",
       "       [ 0.  ],\n",
       "       [ 0.  ],\n",
       "       [61.13],\n",
       "       [ 0.  ],\n",
       "       [ 7.36],\n",
       "       [ 0.  ],\n",
       "       [ 0.  ]])"
      ]
     },
     "execution_count": 25,
     "metadata": {},
     "output_type": "execute_result"
    }
   ],
   "source": [
    "y_test"
   ]
  },
  {
   "cell_type": "code",
   "execution_count": 30,
   "metadata": {},
   "outputs": [],
   "source": [
    "tempot = np.sum(abs(pred1 - y_test), axis = 0)[0]/(2*y_test.shape[0])"
   ]
  },
  {
   "cell_type": "code",
   "execution_count": 31,
   "metadata": {},
   "outputs": [],
   "source": [
    "dere = np.sum((pred1 - y_test)**2, axis = 0)[0]/(2*y_test.shape[0])"
   ]
  },
  {
   "cell_type": "code",
   "execution_count": 32,
   "metadata": {},
   "outputs": [
    {
     "data": {
      "text/plain": [
       "5.007116603961039"
      ]
     },
     "execution_count": 32,
     "metadata": {},
     "output_type": "execute_result"
    }
   ],
   "source": [
    "tempot"
   ]
  },
  {
   "cell_type": "code",
   "execution_count": 33,
   "metadata": {},
   "outputs": [
    {
     "data": {
      "text/plain": [
       "89.32590471287398"
      ]
     },
     "execution_count": 33,
     "metadata": {},
     "output_type": "execute_result"
    }
   ],
   "source": [
    "dere"
   ]
  },
  {
   "cell_type": "code",
   "execution_count": 34,
   "metadata": {},
   "outputs": [
    {
     "data": {
      "text/plain": [
       "52"
      ]
     },
     "execution_count": 34,
     "metadata": {},
     "output_type": "execute_result"
    }
   ],
   "source": [
    "y_test.shape[0]"
   ]
  },
  {
   "cell_type": "code",
   "execution_count": null,
   "metadata": {},
   "outputs": [],
   "source": []
  },
  {
   "cell_type": "code",
   "execution_count": null,
   "metadata": {},
   "outputs": [],
   "source": []
  },
  {
   "cell_type": "code",
   "execution_count": 30,
   "metadata": {},
   "outputs": [],
   "source": []
  },
  {
   "cell_type": "code",
   "execution_count": 31,
   "metadata": {},
   "outputs": [
    {
     "data": {
      "text/plain": [
       "0.021189706317142454"
      ]
     },
     "execution_count": 31,
     "metadata": {},
     "output_type": "execute_result"
    }
   ],
   "source": [
    "from sklearn.metrics import r2_score\n",
    "r2_score(y, y_predict)"
   ]
  },
  {
   "cell_type": "code",
   "execution_count": null,
   "metadata": {},
   "outputs": [],
   "source": []
  },
  {
   "cell_type": "markdown",
   "metadata": {},
   "source": [
    "Testing Sklearn Elastic Net"
   ]
  },
  {
   "cell_type": "code",
   "execution_count": 30,
   "metadata": {},
   "outputs": [],
   "source": [
    "from sklearn.linear_model import ElasticNet\n"
   ]
  },
  {
   "cell_type": "code",
   "execution_count": 34,
   "metadata": {},
   "outputs": [
    {
     "name": "stdout",
     "output_type": "stream",
     "text": [
      "[ 1.69061703  0.30874544 -0.0496184   0.0860993  -0.00642681 -0.5700025\n",
      "  0.69845019 -0.24004841  1.16070768 -0.         -0.         -0.\n",
      " -0.79999577  1.71605858  0.         -0.         -0.          0.\n",
      "  0.          0.          0.         -0.         -0.81347779  0.\n",
      "  2.23603607 -0.         -0.         -0.          0.        ]\n",
      "[-0.4995132]\n",
      "[11.59471296]\n"
     ]
    }
   ],
   "source": [
    "regr = ElasticNet(random_state=0)\n",
    "regr.fit(X, y)\n",
    "ElasticNet(random_state=0)\n",
    "print(regr.coef_)\n",
    "\n",
    "print(regr.intercept_)\n",
    "\n",
    "print(regr.predict([X[516]]))"
   ]
  },
  {
   "cell_type": "code",
   "execution_count": 32,
   "metadata": {},
   "outputs": [
    {
     "data": {
      "text/plain": [
       "array([ 7. ,  5. , 86.2, 26.2, 94.3,  5.1,  8.2, 51. ,  6.7,  0. ,  1. ,\n",
       "        0. ,  0. ,  0. ,  0. ,  0. ,  0. ,  0. ,  0. ,  0. ,  0. ,  0. ,\n",
       "        1. ,  0. ,  0. ,  0. ,  0. ,  0. ,  0. ])"
      ]
     },
     "execution_count": 32,
     "metadata": {},
     "output_type": "execute_result"
    }
   ],
   "source": [
    "X[0]"
   ]
  },
  {
   "cell_type": "code",
   "execution_count": 33,
   "metadata": {},
   "outputs": [
    {
     "data": {
      "text/plain": [
       "(517, 29)"
      ]
     },
     "execution_count": 33,
     "metadata": {},
     "output_type": "execute_result"
    }
   ],
   "source": [
    "X.shape"
   ]
  },
  {
   "cell_type": "code",
   "execution_count": null,
   "metadata": {},
   "outputs": [],
   "source": []
  },
  {
   "cell_type": "code",
   "execution_count": null,
   "metadata": {},
   "outputs": [],
   "source": []
  }
 ],
 "metadata": {
  "kernelspec": {
   "display_name": "Python 3",
   "language": "python",
   "name": "python3"
  },
  "language_info": {
   "codemirror_mode": {
    "name": "ipython",
    "version": 3
   },
   "file_extension": ".py",
   "mimetype": "text/x-python",
   "name": "python",
   "nbconvert_exporter": "python",
   "pygments_lexer": "ipython3",
   "version": "3.8.5"
  }
 },
 "nbformat": 4,
 "nbformat_minor": 4
}
